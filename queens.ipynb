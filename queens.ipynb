{
 "cells": [
  {
   "cell_type": "code",
   "execution_count": 181,
   "metadata": {},
   "outputs": [],
   "source": [
    "using Random\n",
    "n = 8\n",
    "population_size = 100\n",
    "nr_epochs = 10000\n",
    "X = shuffle(collect(1:n))\n",
    ";"
   ]
  },
  {
   "cell_type": "code",
   "execution_count": 182,
   "metadata": {},
   "outputs": [
    {
     "data": {
      "text/plain": [
       "mutate (generic function with 1 method)"
      ]
     },
     "execution_count": 182,
     "metadata": {},
     "output_type": "execute_result"
    }
   ],
   "source": [
    "function mutate(state)\n",
    "    new_state = copy(state)\n",
    "    rnd = rand(1:n, 2)\n",
    "    while rnd[1] == rnd[2]\n",
    "        rnd = rand(1:n, 2)\n",
    "    end\n",
    "    temp = state[rnd[1]]\n",
    "    new_state[rnd[1]] = new_state[rnd[2]]\n",
    "    new_state[rnd[2]] = temp\n",
    "    return new_state\n",
    "end"
   ]
  },
  {
   "cell_type": "code",
   "execution_count": 183,
   "metadata": {},
   "outputs": [
    {
     "data": {
      "text/plain": [
       "crossover (generic function with 1 method)"
      ]
     },
     "execution_count": 183,
     "metadata": {},
     "output_type": "execute_result"
    }
   ],
   "source": [
    "function crossover(first_parent, second_parent)\n",
    "    first_child = copy(first_parent)\n",
    "    second_child = copy(second_parent)\n",
    "    \n",
    "    for i in rand(1:n):n\n",
    "        if second_parent[i] in first_child[1:i-1]\n",
    "            for k in 1:i\n",
    "                if second_parent[k] ∉ first_child[1:i-1]\n",
    "                    first_child[i] = second_parent[k]\n",
    "                end\n",
    "            end\n",
    "        else\n",
    "            first_child[i] = second_parent[i]\n",
    "        end\n",
    "        \n",
    "        if first_parent[i] in second_child[1:i-1]\n",
    "            for k in 1:i\n",
    "                if first_parent[k] ∉ second_child[1:i-1]\n",
    "                    second_child[i] = first_parent[k]\n",
    "                end\n",
    "            end\n",
    "        else\n",
    "            second_child[i] = first_parent[i]\n",
    "        end\n",
    "    end\n",
    "    return first_child, second_child\n",
    "end"
   ]
  },
  {
   "cell_type": "code",
   "execution_count": 184,
   "metadata": {},
   "outputs": [
    {
     "data": {
      "text/plain": [
       "fitness (generic function with 1 method)"
      ]
     },
     "execution_count": 184,
     "metadata": {},
     "output_type": "execute_result"
    }
   ],
   "source": [
    "function fitness(genotype)\n",
    "    sum = 0\n",
    "    for i in 1:n\n",
    "        s = i + genotype[i]\n",
    "        d = i - genotype[i]\n",
    "        for j in i+1:n\n",
    "            if s == j + genotype[j] || d == j - genotype[j]\n",
    "                sum += 1\n",
    "            end\n",
    "        end\n",
    "    end\n",
    "    return sum\n",
    "end"
   ]
  },
  {
   "cell_type": "code",
   "execution_count": 185,
   "metadata": {},
   "outputs": [
    {
     "data": {
      "text/plain": [
       "go (generic function with 1 method)"
      ]
     },
     "execution_count": 185,
     "metadata": {},
     "output_type": "execute_result"
    }
   ],
   "source": [
    "function go(X)\n",
    "    population = []\n",
    "    for i in 1:population_size\n",
    "        push!(population, shuffle(X))\n",
    "    end\n",
    "\n",
    "    for i in 1:nr_epochs\n",
    "        parents = sort(shuffle(population)[1:5], by = x -> fitness(x))[1:2]\n",
    "        childs = crossover(parents[1], parents[2])\n",
    "        if rand(1:10) <= 8\n",
    "            childs = mutate.(childs)\n",
    "        end\n",
    "        push!(population, childs[1])\n",
    "        push!(population, childs[2])\n",
    "        population = sort(population, by = x -> fitness(x))[1:population_size]\n",
    "\n",
    "        if fitness(population[1]) == 0 \n",
    "            display(i)\n",
    "            return population[1]\n",
    "        end\n",
    "    end\n",
    "    return population[1]\n",
    "end"
   ]
  },
  {
   "cell_type": "code",
   "execution_count": 198,
   "metadata": {},
   "outputs": [
    {
     "data": {
      "text/plain": [
       "37"
      ]
     },
     "metadata": {},
     "output_type": "display_data"
    },
    {
     "data": {
      "text/plain": [
       "8×8 Matrix{Int8}:\n",
       " 0  0  1  0  0  0  0  0\n",
       " 0  0  0  0  0  1  0  0\n",
       " 0  1  0  0  0  0  0  0\n",
       " 0  0  0  0  0  0  1  0\n",
       " 1  0  0  0  0  0  0  0\n",
       " 0  0  0  1  0  0  0  0\n",
       " 0  0  0  0  0  0  0  1\n",
       " 0  0  0  0  1  0  0  0"
      ]
     },
     "execution_count": 198,
     "metadata": {},
     "output_type": "execute_result"
    }
   ],
   "source": [
    "function state_to_matrix(vec)\n",
    "    M = zeros(Int8, n, n)\n",
    "    for i in 1:n\n",
    "        M[vec[i],i] = 1\n",
    "    end\n",
    "    return M\n",
    "end\n",
    "\n",
    "final = state_to_matrix(go(X))\n",
    "\n",
    "#8queens ~0.3s/30epochs\n",
    "#12queens ~2s/300epochs\n",
    "#14queens ~6s/600epochs\n",
    "#16queens ~10s/1000epochs"
   ]
  }
 ],
 "metadata": {
  "kernelspec": {
   "display_name": "Julia 1.7.2",
   "language": "julia",
   "name": "julia-1.7"
  },
  "language_info": {
   "file_extension": ".jl",
   "mimetype": "application/julia",
   "name": "julia",
   "version": "1.7.2"
  },
  "orig_nbformat": 4,
  "vscode": {
   "interpreter": {
    "hash": "2572ea1b1ef9c8d2ad1a91dec6289fcd3897516dc536ea19b4e38370c1a20702"
   }
  }
 },
 "nbformat": 4,
 "nbformat_minor": 2
}
