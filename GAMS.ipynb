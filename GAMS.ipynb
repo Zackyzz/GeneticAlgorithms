{
 "cells": [
  {
   "cell_type": "code",
   "execution_count": 7,
   "metadata": {},
   "outputs": [
    {
     "data": {
      "text/plain": [
       "20000"
      ]
     },
     "execution_count": 7,
     "metadata": {},
     "output_type": "execute_result"
    }
   ],
   "source": [
    "using Random, LinearAlgebra\n",
    "n = 8\n",
    "magic_number = n*(n^2+1) ÷ 2\n",
    "population_size = 200\n",
    "nr_epochs = 20000"
   ]
  },
  {
   "cell_type": "code",
   "execution_count": 8,
   "metadata": {},
   "outputs": [
    {
     "data": {
      "text/plain": [
       "fitness (generic function with 1 method)"
      ]
     },
     "execution_count": 8,
     "metadata": {},
     "output_type": "execute_result"
    }
   ],
   "source": [
    "using LinearAlgebra\n",
    "function fitness(M)\n",
    "    MSE = 0\n",
    "    for i in 1:n\n",
    "        MSE += abs(magic_number - sum(M[i, :])) + abs(magic_number - sum(M[:, i]))\n",
    "    end\n",
    "    MSE += abs(magic_number - sum(Diagonal(M))) + abs(magic_number - sum(Diagonal(reverse(M, dims=2))))\n",
    "end"
   ]
  },
  {
   "cell_type": "code",
   "execution_count": 9,
   "metadata": {},
   "outputs": [
    {
     "data": {
      "text/plain": [
       "mutate (generic function with 1 method)"
      ]
     },
     "execution_count": 9,
     "metadata": {},
     "output_type": "execute_result"
    }
   ],
   "source": [
    "function mutate(parent, number_of_mutations)\n",
    "    new_parent = copy(parent)\n",
    "    for i in 1:number_of_mutations\n",
    "        rnd = rand(1:n, 2, 2)\n",
    "        temp = new_parent[rnd[1,1], rnd[1,2]]\n",
    "        new_parent[rnd[1,1], rnd[1,2]] = new_parent[rnd[2,1], rnd[2,2]]\n",
    "        new_parent[rnd[2,1], rnd[2,2]] = temp\n",
    "    end\n",
    "    return new_parent\n",
    "end"
   ]
  },
  {
   "cell_type": "code",
   "execution_count": 10,
   "metadata": {},
   "outputs": [
    {
     "data": {
      "text/plain": [
       "crossover (generic function with 1 method)"
      ]
     },
     "execution_count": 10,
     "metadata": {},
     "output_type": "execute_result"
    }
   ],
   "source": [
    "function crossover(first_parent, second_parent)\n",
    "    flattened_fp = hcat(first_parent'...)\n",
    "    flattened_sp = hcat(second_parent'...)\n",
    "    first_child = copy(flattened_fp)\n",
    "    second_child = copy(flattened_sp)\n",
    "\n",
    "    for i in rand(1:n):n*n\n",
    "        if flattened_sp[i] in first_child[1:i-1]\n",
    "            for k in 1:i\n",
    "                if flattened_sp[k] ∉ first_child[1:i-1]\n",
    "                    first_child[i] = flattened_sp[k]\n",
    "                end\n",
    "            end\n",
    "        else\n",
    "            first_child[i] = flattened_sp[i]\n",
    "        end\n",
    "        \n",
    "        if flattened_fp[i] in second_child[1:i-1]\n",
    "            for k in 1:i\n",
    "                if flattened_fp[k] ∉ second_child[1:i-1]\n",
    "                    second_child[i] = flattened_fp[k]\n",
    "                end\n",
    "            end\n",
    "        else\n",
    "            second_child[i] = flattened_fp[i]\n",
    "        end\n",
    "    end\n",
    "\n",
    "    matrix_fc = zeros(Int32,n,n)\n",
    "    matrix_sc = zeros(Int32,n,n)\n",
    "    for i in 1:n\n",
    "        for j in 1:n\n",
    "            matrix_fc[i,j] = first_child[((i-1)*n) + j]\n",
    "            matrix_sc[i,j] = second_child[((i-1)*n) + j]\n",
    "        end\n",
    "    end\n",
    "    return matrix_fc, matrix_sc\n",
    "end"
   ]
  },
  {
   "cell_type": "code",
   "execution_count": 11,
   "metadata": {},
   "outputs": [
    {
     "data": {
      "text/plain": [
       "go! (generic function with 1 method)"
      ]
     },
     "execution_count": 11,
     "metadata": {},
     "output_type": "execute_result"
    }
   ],
   "source": [
    "function go!(initial)\n",
    "    population = []\n",
    "    for j in 1:population_size\n",
    "        push!(population, mutate(initial, 100))\n",
    "    end\n",
    "    for i in 1:1000\n",
    "        errors = fitness.(population)\n",
    "        population = sort(population, by = x -> fitness(x))\n",
    "        if fitness(population[1]) == 0 \n",
    "            display(population[1])\n",
    "            display(i)\n",
    "            return population[1]\n",
    "        end\n",
    "\n",
    "        new_childs = []\n",
    "        for j in 1:2:(population_size ÷ 2)\n",
    "            childs = crossover(population[j], population[j+1])\n",
    "            push!(new_childs, childs[1])\n",
    "            push!(new_childs, childs[2])\n",
    "        end\n",
    "        population = append!(population[1:(population_size ÷ 2)], new_childs)\n",
    "\n",
    "        for k in 1:(population_size ÷ 2)\n",
    "            rnd = rand(2 : population_size)\n",
    "            population[rnd] = mutate(population[rnd], fitness(population[rnd]))\n",
    "        end\n",
    "    end\n",
    "    population = sort(population, by = x -> fitness(x))\n",
    "    display(fitness.(population))\n",
    "    display(population)\n",
    "    return population[1]\n",
    "end"
   ]
  },
  {
   "cell_type": "code",
   "execution_count": 12,
   "metadata": {},
   "outputs": [
    {
     "data": {
      "text/plain": [
       "4×4 Matrix{Int32}:\n",
       "  4  15  13   6\n",
       " 11   5   2  16\n",
       "  9   8   7  10\n",
       "  1  14  12   3"
      ]
     },
     "metadata": {},
     "output_type": "display_data"
    },
    {
     "data": {
      "text/plain": [
       "200-element Vector{Int64}:\n",
       " 14\n",
       " 14\n",
       " 14\n",
       " 14\n",
       " 14\n",
       " 14\n",
       " 14\n",
       " 14\n",
       " 14\n",
       " 14\n",
       " 14\n",
       " 14\n",
       " 14\n",
       "  ⋮\n",
       " 78\n",
       " 81\n",
       " 82\n",
       " 83\n",
       " 83\n",
       " 84\n",
       " 85\n",
       " 85\n",
       " 91\n",
       " 92\n",
       " 96\n",
       " 99"
      ]
     },
     "metadata": {},
     "output_type": "display_data"
    },
    {
     "data": {
      "text/plain": [
       "200-element Vector{Any}:\n",
       " Int32[7 13 2 11; 9 3 14 12; 10 1 16 5; 8 15 4 6]\n",
       " Int32[7 13 2 11; 9 3 14 12; 10 1 16 5; 8 15 4 6]\n",
       " Int32[7 13 2 11; 9 3 14 12; 10 1 16 5; 8 15 4 6]\n",
       " Int32[7 13 2 11; 9 3 14 12; 10 1 16 5; 8 15 4 6]\n",
       " Int32[7 13 2 11; 9 3 14 12; 10 1 16 5; 8 15 4 6]\n",
       " Int32[7 13 2 11; 9 3 14 12; 10 1 16 5; 8 15 4 6]\n",
       " Int32[7 13 2 11; 9 3 14 12; 10 1 16 5; 8 15 4 6]\n",
       " Int32[7 13 2 11; 9 3 14 12; 10 1 16 5; 8 15 4 6]\n",
       " Int32[7 13 2 11; 9 3 14 12; 10 1 16 5; 8 15 4 6]\n",
       " Int32[7 13 2 11; 9 3 14 12; 10 1 16 5; 8 15 4 6]\n",
       " Int32[7 13 2 11; 9 3 14 12; 10 1 16 5; 8 15 4 6]\n",
       " Int32[7 13 2 11; 9 3 14 12; 10 1 16 5; 8 15 4 6]\n",
       " Int32[7 13 2 11; 9 3 14 12; 10 1 16 5; 8 15 4 6]\n",
       " ⋮\n",
       " Int32[15 13 12 1; 14 9 10 2; 4 5 3 6; 8 16 11 7]\n",
       " Int32[11 7 10 9; 6 4 5 14; 2 3 16 15; 8 1 12 13]\n",
       " Int32[11 16 13 14; 5 8 1 15; 3 7 6 10; 9 12 4 2]\n",
       " Int32[11 9 14 16; 13 3 4 12; 10 2 7 6; 15 8 1 5]\n",
       " Int32[7 14 13 15; 10 9 12 4; 5 16 2 1; 8 3 11 6]\n",
       " Int32[15 11 13 7; 3 8 2 9; 14 10 16 5; 4 1 6 12]\n",
       " Int32[8 13 2 11; 6 12 7 9; 10 14 3 1; 16 15 5 4]\n",
       " Int32[8 3 14 15; 1 2 12 9; 10 7 16 13; 6 11 4 5]\n",
       " Int32[7 11 14 13; 1 3 10 8; 9 2 6 5; 12 4 15 16]\n",
       " Int32[13 6 2 1; 14 8 9 12; 16 11 10 15; 7 5 4 3]\n",
       " Int32[11 7 5 8; 4 12 13 14; 10 3 16 15; 2 1 6 9]\n",
       " Int32[8 4 7 3; 6 15 14 10; 13 9 16 11; 1 2 12 5]"
      ]
     },
     "metadata": {},
     "output_type": "display_data"
    },
    {
     "data": {
      "text/plain": [
       "4×4 Matrix{Int32}:\n",
       "  7  13   2  11\n",
       "  9   3  14  12\n",
       " 10   1  16   5\n",
       "  8  15   4   6"
      ]
     },
     "metadata": {},
     "output_type": "display_data"
    },
    {
     "data": {
      "text/plain": [
       "14"
      ]
     },
     "metadata": {},
     "output_type": "display_data"
    }
   ],
   "source": [
    "X = zeros(Int32, n, n)\n",
    "for i in 1:n\n",
    "    for j in 1:n\n",
    "        X[i,j] = ((i - 1) * n) + j\n",
    "    end\n",
    "end\n",
    "X = shuffle(X)\n",
    "display(X)\n",
    "\n",
    "Solution = go!(X)\n",
    "display(Solution)\n",
    "display(fitness(Solution))"
   ]
  }
 ],
 "metadata": {
  "kernelspec": {
   "display_name": "Julia 1.7.2",
   "language": "julia",
   "name": "julia-1.7"
  },
  "language_info": {
   "file_extension": ".jl",
   "mimetype": "application/julia",
   "name": "julia",
   "version": "1.7.2"
  },
  "orig_nbformat": 4,
  "vscode": {
   "interpreter": {
    "hash": "2572ea1b1ef9c8d2ad1a91dec6289fcd3897516dc536ea19b4e38370c1a20702"
   }
  }
 },
 "nbformat": 4,
 "nbformat_minor": 2
}
