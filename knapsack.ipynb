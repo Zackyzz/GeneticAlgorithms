{
 "cells": [
  {
   "cell_type": "code",
   "execution_count": 18,
   "metadata": {},
   "outputs": [],
   "source": [
    "using Random\n",
    "nr_items = 10\n",
    "capacity = 165\n",
    "weights = [23, 31, 29, 44, 53, 38, 63, 85, 89, 82]\n",
    "values = [92, 57, 49, 68, 60, 43, 67, 84, 87, 72]\n",
    "#1 1 1 1 0 1 0 0 0 0\n",
    "\n",
    "nr_epochs = 1000\n",
    "population_size = 100\n",
    "population = []\n",
    "for i in 1:population_size\n",
    "    chromosome = []\n",
    "    for i in 1:nr_items\n",
    "        push!(chromosome, rand(0:1))\n",
    "    end\n",
    "    push!(population, chromosome)\n",
    "end"
   ]
  },
  {
   "cell_type": "code",
   "execution_count": 19,
   "metadata": {},
   "outputs": [
    {
     "data": {
      "text/plain": [
       "mutate (generic function with 1 method)"
      ]
     },
     "execution_count": 19,
     "metadata": {},
     "output_type": "execute_result"
    }
   ],
   "source": [
    "function mutate(chromosome)\n",
    "    if rand() < 0.8\n",
    "        chromosome[rand(1:nr_items)] ⊻= 1\n",
    "    end\n",
    "    return chromosome \n",
    "end"
   ]
  },
  {
   "cell_type": "code",
   "execution_count": 20,
   "metadata": {},
   "outputs": [
    {
     "data": {
      "text/plain": [
       "crossover (generic function with 1 method)"
      ]
     },
     "execution_count": 20,
     "metadata": {},
     "output_type": "execute_result"
    }
   ],
   "source": [
    "function crossover(first_parent, second_parent)\n",
    "    crossover_point = rand(1:10)\n",
    "    first_child = append!(first_parent[1:crossover_point], second_parent[crossover_point+1:nr_items])\n",
    "    second_child = append!(second_parent[1:crossover_point], first_parent[crossover_point+1:nr_items])\n",
    "    return first_child, second_child\n",
    "end"
   ]
  },
  {
   "cell_type": "code",
   "execution_count": 21,
   "metadata": {},
   "outputs": [
    {
     "data": {
      "text/plain": [
       "fitness (generic function with 1 method)"
      ]
     },
     "execution_count": 21,
     "metadata": {},
     "output_type": "execute_result"
    }
   ],
   "source": [
    "function fitness(chromosome)\n",
    "    if sum(weights.*chromosome) > capacity\n",
    "        return 0\n",
    "    else\n",
    "        return sum(values.*chromosome)\n",
    "    end\n",
    "end"
   ]
  },
  {
   "cell_type": "code",
   "execution_count": 22,
   "metadata": {},
   "outputs": [
    {
     "data": {
      "text/plain": [
       "go! (generic function with 1 method)"
      ]
     },
     "execution_count": 22,
     "metadata": {},
     "output_type": "execute_result"
    }
   ],
   "source": [
    "function go!(population)\n",
    "    old_fitness = 0\n",
    "    counter = 0\n",
    "    for i in 1:nr_epochs\n",
    "        parents = sort(shuffle(population)[1:5], rev = true, by = x -> fitness(x))[1:2]\n",
    "        childs = crossover(parents[1], parents[2])\n",
    "        childs = mutate.(childs)\n",
    "        push!(population, childs[1])\n",
    "        push!(population, childs[2])\n",
    "        population = sort(population, rev = true, by = x -> fitness(x))[1:population_size]\n",
    "\n",
    "        if old_fitness == fitness(population[1])\n",
    "            counter +=1\n",
    "        else\n",
    "            counter = 0\n",
    "        end\n",
    "        old_fitness = fitness(population[1])\n",
    "        if counter == 100\n",
    "            display(i)\n",
    "            display(fitness(population[1]))\n",
    "            return population[1]\n",
    "        end\n",
    "    end\n",
    "    display(fitness(population[1]))\n",
    "    return population[1]\n",
    "end"
   ]
  },
  {
   "cell_type": "code",
   "execution_count": 23,
   "metadata": {},
   "outputs": [
    {
     "data": {
      "text/plain": [
       "149"
      ]
     },
     "metadata": {},
     "output_type": "display_data"
    },
    {
     "data": {
      "text/plain": [
       "309"
      ]
     },
     "metadata": {},
     "output_type": "display_data"
    },
    {
     "data": {
      "text/plain": [
       "1×10 adjoint(::Vector{Any}) with eltype Any:\n",
       " 1  1  1  1  0  1  0  0  0  0"
      ]
     },
     "execution_count": 23,
     "metadata": {},
     "output_type": "execute_result"
    }
   ],
   "source": [
    "go!(population)'"
   ]
  },
  {
   "cell_type": "code",
   "execution_count": 32,
   "metadata": {},
   "outputs": [
    {
     "data": {
      "text/plain": [
       "2-element Vector{Any}:\n",
       " 72\n",
       " 67"
      ]
     },
     "metadata": {},
     "output_type": "display_data"
    },
    {
     "data": {
      "text/plain": [
       "139"
      ]
     },
     "metadata": {},
     "output_type": "display_data"
    }
   ],
   "source": [
    "#Greedy\n",
    "items = sort(collect(zip(weights, values)), rev = true, by = x -> x[1]/x[2])\n",
    "\n",
    "greedy_solution = []\n",
    "current_capacity = 0\n",
    "for i in items\n",
    "    if current_capacity + i[1] <= capacity\n",
    "        push!(greedy_solution, i[2])\n",
    "        current_capacity += i[1]\n",
    "    else\n",
    "        continue\n",
    "    end\n",
    "end\n",
    "display(greedy_solution)\n",
    "display(sum(greedy_solution))"
   ]
  }
 ],
 "metadata": {
  "kernelspec": {
   "display_name": "Julia 1.7.2",
   "language": "julia",
   "name": "julia-1.7"
  },
  "language_info": {
   "file_extension": ".jl",
   "mimetype": "application/julia",
   "name": "julia",
   "version": "1.7.2"
  },
  "orig_nbformat": 4,
  "vscode": {
   "interpreter": {
    "hash": "2572ea1b1ef9c8d2ad1a91dec6289fcd3897516dc536ea19b4e38370c1a20702"
   }
  }
 },
 "nbformat": 4,
 "nbformat_minor": 2
}
