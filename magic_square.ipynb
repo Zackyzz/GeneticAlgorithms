{
 "cells": [
  {
   "cell_type": "code",
   "execution_count": 51,
   "metadata": {},
   "outputs": [
    {
     "data": {
      "text/plain": [
       "100"
      ]
     },
     "execution_count": 51,
     "metadata": {},
     "output_type": "execute_result"
    }
   ],
   "source": [
    "using Random, LinearAlgebra\n",
    "nr_epochs = 10000\n",
    "nr_childs = 100"
   ]
  },
  {
   "cell_type": "code",
   "execution_count": 52,
   "metadata": {},
   "outputs": [
    {
     "data": {
      "text/plain": [
       "fitness (generic function with 1 method)"
      ]
     },
     "execution_count": 52,
     "metadata": {},
     "output_type": "execute_result"
    }
   ],
   "source": [
    "function fitness(M, n)\n",
    "    magic_number = n*(n^2+1) ÷ 2\n",
    "    MSE = 0\n",
    "    for i in 1:n\n",
    "        MSE += abs(magic_number - sum(M[i, :])) + abs(magic_number - sum(M[:, i]))\n",
    "    end\n",
    "    return MSE + abs(magic_number -sum(Diagonal(M))) + abs(magic_number - sum(Diagonal(reverse(M, dims=2))))\n",
    "end"
   ]
  },
  {
   "cell_type": "code",
   "execution_count": 53,
   "metadata": {},
   "outputs": [
    {
     "data": {
      "text/plain": [
       "mutate (generic function with 1 method)"
      ]
     },
     "execution_count": 53,
     "metadata": {},
     "output_type": "execute_result"
    }
   ],
   "source": [
    "function mutate(parent, number_of_mutations, n)\n",
    "    new_parent = copy(parent)\n",
    "    for i in 1:number_of_mutations\n",
    "        rnd = rand(1:n, 2, 2)\n",
    "        if n != 3\n",
    "            while (rnd[1,1] <= 3 && rnd[1,2] <= 3) || (rnd[2,1] <= 3 && rnd[2,2] <= 3)\n",
    "                rnd = rand(1:n, 2, 2)\n",
    "            end\n",
    "        end\n",
    "        temp = new_parent[rnd[1,1], rnd[1,2]]\n",
    "        new_parent[rnd[1,1], rnd[1,2]] = new_parent[rnd[2,1], rnd[2,2]]\n",
    "        new_parent[rnd[2,1], rnd[2,2]] = temp\n",
    "    end\n",
    "    return new_parent\n",
    "end"
   ]
  },
  {
   "cell_type": "code",
   "execution_count": 54,
   "metadata": {},
   "outputs": [
    {
     "data": {
      "text/plain": [
       "go! (generic function with 1 method)"
      ]
     },
     "execution_count": 54,
     "metadata": {},
     "output_type": "execute_result"
    }
   ],
   "source": [
    "function go!(M, n)\n",
    "    for i in 1:nr_epochs\n",
    "        Xs = []\n",
    "        for j in 1:nr_childs\n",
    "            push!(Xs, mutate(M, rand(1:n), n))\n",
    "        end\n",
    "        push!(Xs, M)\n",
    "        errors = fitness.(Xs, n)\n",
    "        M = Xs[argmin(errors)]\n",
    "        if minimum(errors) == 0 \n",
    "            return M\n",
    "        end\n",
    "    end\n",
    "    return M\n",
    "end"
   ]
  },
  {
   "cell_type": "code",
   "execution_count": 55,
   "metadata": {},
   "outputs": [
    {
     "data": {
      "text/plain": [
       "\"Start\""
      ]
     },
     "metadata": {},
     "output_type": "display_data"
    },
    {
     "data": {
      "text/plain": [
       "1"
      ]
     },
     "metadata": {},
     "output_type": "display_data"
    },
    {
     "data": {
      "text/plain": [
       "10×10 Matrix{Int32}:\n",
       "  8    1   6  74  68  89  98  55  69  37\n",
       "  3    5   7  83  90  64  77  45  46  85\n",
       "  4    9   2  39  15  91  65  93  99  88\n",
       " 87  100  49  57  44  17  21  26  42  62\n",
       " 79   63  59  35  72  18  76  27  40  36\n",
       " 94   78  75  19  25  80  31  10  70  23\n",
       " 67   38  92  96  41  73  53  12  20  13\n",
       " 61   43  47  56  60  29  28  95  54  32\n",
       " 50   71  86  16  66  11  22  84  51  48\n",
       " 52   97  82  30  24  33  34  58  14  81"
      ]
     },
     "metadata": {},
     "output_type": "display_data"
    },
    {
     "data": {
      "text/plain": [
       "2"
      ]
     },
     "metadata": {},
     "output_type": "display_data"
    },
    {
     "data": {
      "text/plain": [
       "\"End\""
      ]
     },
     "metadata": {},
     "output_type": "display_data"
    },
    {
     "data": {
      "text/plain": [
       "\"Start\""
      ]
     },
     "metadata": {},
     "output_type": "display_data"
    },
    {
     "data": {
      "text/plain": [
       "2"
      ]
     },
     "metadata": {},
     "output_type": "display_data"
    },
    {
     "data": {
      "text/plain": [
       "10×10 Matrix{Int32}:\n",
       "  2    9   4  51  66  82  70  98  46  77\n",
       "  7    5   3  95  69  96  76  65  25  64\n",
       "  6    1   8  74  59  62  86  92  23  94\n",
       " 68   88  97  36  13  16  75  15  84  12\n",
       " 99   67  87  80  39  21  11  30  54  17\n",
       " 26  100  73  47  32  85  19  38  45  40\n",
       " 31   56  58  10  89  41  60  52  71  37\n",
       " 83   53  48  43  42  61  29  63  34  50\n",
       " 93   35  55  20  78  27  57  28  79  33\n",
       " 90   91  72  49  18  14  22  24  44  81"
      ]
     },
     "metadata": {},
     "output_type": "display_data"
    },
    {
     "data": {
      "text/plain": [
       "49"
      ]
     },
     "metadata": {},
     "output_type": "display_data"
    },
    {
     "data": {
      "text/plain": [
       "\"End\""
      ]
     },
     "metadata": {},
     "output_type": "display_data"
    },
    {
     "data": {
      "text/plain": [
       "\"Start\""
      ]
     },
     "metadata": {},
     "output_type": "display_data"
    },
    {
     "data": {
      "text/plain": [
       "3"
      ]
     },
     "metadata": {},
     "output_type": "display_data"
    },
    {
     "data": {
      "text/plain": [
       "10×10 Matrix{Int32}:\n",
       "  2   9   4  81   98  86  71  73  56  25\n",
       "  7   5   3  99   58  36  75  62  79  82\n",
       "  6   1   8  43  100  39  96  67  64  80\n",
       " 66  55  20  77   10  60  28  61  87  41\n",
       " 94  95  97  12   84  37  11  18  40  17\n",
       " 24  83  92  33   14  93  13  50  46  57\n",
       " 88  51  85  29   21  31  76  42  35  47\n",
       " 65  89  72  30   45  69  53  48  15  19\n",
       " 90  91  70  27   52  22  44  16  34  59\n",
       " 63  26  54  74   23  32  38  68  49  78"
      ]
     },
     "metadata": {},
     "output_type": "display_data"
    },
    {
     "data": {
      "text/plain": [
       "2"
      ]
     },
     "metadata": {},
     "output_type": "display_data"
    },
    {
     "data": {
      "text/plain": [
       "\"End\""
      ]
     },
     "metadata": {},
     "output_type": "display_data"
    },
    {
     "data": {
      "text/plain": [
       "\"Start\""
      ]
     },
     "metadata": {},
     "output_type": "display_data"
    },
    {
     "data": {
      "text/plain": [
       "4"
      ]
     },
     "metadata": {},
     "output_type": "display_data"
    },
    {
     "data": {
      "text/plain": [
       "10×10 Matrix{Int32}:\n",
       "   4   9   2  73  90  67  40  95  83  42\n",
       "   3   5   7  87  38  97  85  51  54  78\n",
       "   8   1   6  88  93  35  76  94  49  55\n",
       "  32  71  79  68  53  11  29  60  21  81\n",
       "  89  44  77  13  70  57  20  33  74  28\n",
       "  84  98  92  46  43  26  31  19  52  14\n",
       "  99  59  91  27  17  66  30  24  45  47\n",
       " 100  64  37  56  41  16  62  96  23  10\n",
       "  36  72  34  25  48  69  75  18  65  63\n",
       "  50  82  80  22  12  61  58  15  39  86"
      ]
     },
     "metadata": {},
     "output_type": "display_data"
    },
    {
     "data": {
      "text/plain": [
       "51"
      ]
     },
     "metadata": {},
     "output_type": "display_data"
    },
    {
     "data": {
      "text/plain": [
       "\"End\""
      ]
     },
     "metadata": {},
     "output_type": "display_data"
    },
    {
     "data": {
      "text/plain": [
       "\"Start\""
      ]
     },
     "metadata": {},
     "output_type": "display_data"
    },
    {
     "data": {
      "text/plain": [
       "5"
      ]
     },
     "metadata": {},
     "output_type": "display_data"
    },
    {
     "data": {
      "text/plain": [
       "10×10 Matrix{Int32}:\n",
       "  2    9   4  68  70  98  74  47  97  36\n",
       "  7    5   3  57  90  65  72  88  39  79\n",
       "  6    1   8  99  16  82  84  31  86  92\n",
       " 95  100  61  38  40  10  34  81  13  33\n",
       " 66   25  63  32  89  73  37  42  35  43\n",
       " 20   87  77  56  55  54  51  27  52  26\n",
       " 67   64  76  62  28  46  58  45  48  12\n",
       " 69   94  71  18  53  17  29  91  41  21\n",
       " 93   24  83  15  14  49  44  30  75  78\n",
       " 80   96  59  60  50  11  22  23  19  85"
      ]
     },
     "metadata": {},
     "output_type": "display_data"
    },
    {
     "data": {
      "text/plain": [
       "2"
      ]
     },
     "metadata": {},
     "output_type": "display_data"
    },
    {
     "data": {
      "text/plain": [
       "\"End\""
      ]
     },
     "metadata": {},
     "output_type": "display_data"
    },
    {
     "data": {
      "text/plain": [
       "\"Start\""
      ]
     },
     "metadata": {},
     "output_type": "display_data"
    },
    {
     "data": {
      "text/plain": [
       "6"
      ]
     },
     "metadata": {},
     "output_type": "display_data"
    },
    {
     "data": {
      "text/plain": [
       "10×10 Matrix{Int32}:\n",
       "  2   9    4  95  50  88  70  80  65  42\n",
       "  7   5    3  35  77  76  97  78  31  96\n",
       "  6   1    8  57  84  20  64  75  91  99\n",
       " 85  79   51  81  92  15  40  17  32  13\n",
       " 98  66   67  53  60  12  23  24  30  72\n",
       " 39  90   82  48  29  87  44  61  14  10\n",
       " 59  62   45  38  19  63  36  74  55  54\n",
       " 71  94   93  18  27  34  26  58  73  11\n",
       " 49  56   52  33  46  69  68  22  86  25\n",
       " 89  43  100  47  21  41  37  16  28  83"
      ]
     },
     "metadata": {},
     "output_type": "display_data"
    },
    {
     "data": {
      "text/plain": [
       "3"
      ]
     },
     "metadata": {},
     "output_type": "display_data"
    },
    {
     "data": {
      "text/plain": [
       "\"End\""
      ]
     },
     "metadata": {},
     "output_type": "display_data"
    },
    {
     "data": {
      "text/plain": [
       "\"Start\""
      ]
     },
     "metadata": {},
     "output_type": "display_data"
    },
    {
     "data": {
      "text/plain": [
       "7"
      ]
     },
     "metadata": {},
     "output_type": "display_data"
    },
    {
     "data": {
      "text/plain": [
       "10×10 Matrix{Int32}:\n",
       "  2   9    4  93  71  43  96  85  60  42\n",
       "  7   5    3  68  70  94  39  80  53  86\n",
       "  6   1    8  49  89  99  45  84  69  55\n",
       " 33  13  100  66  63  40  35  27  41  87\n",
       " 97  81   73  22  72  67  38  26  19  10\n",
       " 95  98   47  32  30  48  28  36  37  54\n",
       " 79  82   83  11  52  16  90  24  56  12\n",
       " 46  64   34  92  20  25  88  61  57  18\n",
       " 65  74   77  58  21  44  31  23  62  50\n",
       " 75  78   76  14  17  29  15  59  51  91"
      ]
     },
     "metadata": {},
     "output_type": "display_data"
    },
    {
     "data": {
      "text/plain": [
       "0"
      ]
     },
     "metadata": {},
     "output_type": "display_data"
    },
    {
     "data": {
      "text/plain": [
       "\"End\""
      ]
     },
     "metadata": {},
     "output_type": "display_data"
    },
    {
     "data": {
      "text/plain": [
       "\"Start\""
      ]
     },
     "metadata": {},
     "output_type": "display_data"
    },
    {
     "data": {
      "text/plain": [
       "8"
      ]
     },
     "metadata": {},
     "output_type": "display_data"
    },
    {
     "data": {
      "text/plain": [
       "10×10 Matrix{Int32}:\n",
       "   2   9   4  74  78  52  72  70  83  61\n",
       "   7   5   3  85  84  56  46  88  54  76\n",
       "   6   1   8  43  39  86  41  92  90  99\n",
       " 100  63  91  55  17  20  51  42  53  13\n",
       "  64  57  93  11  94  25  49  18  79  15\n",
       "  34  95  59  44  23  97  29  77  12  35\n",
       "  96  98  73  68  16  22  28  47  10  48\n",
       "  89  75  67  33  50  21  62  38  30  40\n",
       "  81  37  36  60  24  69  82  19  66  31\n",
       "  27  65  71  32  80  58  45  14  26  87"
      ]
     },
     "metadata": {},
     "output_type": "display_data"
    },
    {
     "data": {
      "text/plain": [
       "31"
      ]
     },
     "metadata": {},
     "output_type": "display_data"
    },
    {
     "data": {
      "text/plain": [
       "\"End\""
      ]
     },
     "metadata": {},
     "output_type": "display_data"
    },
    {
     "data": {
      "text/plain": [
       "\"Start\""
      ]
     },
     "metadata": {},
     "output_type": "display_data"
    },
    {
     "data": {
      "text/plain": [
       "9"
      ]
     },
     "metadata": {},
     "output_type": "display_data"
    },
    {
     "data": {
      "text/plain": [
       "10×10 Matrix{Int32}:\n",
       "  8   1   6   82  83  56  77  61  58  73\n",
       "  3   5   7   85  45  38  65  90  68  99\n",
       "  4   9   2   74  93  51  72  54  89  57\n",
       " 39  88  98  100  34  37  10  21  16  62\n",
       " 76  94  20   11  78  47  64  42  43  30\n",
       " 86  75  24   22  26  84  41  19  59  69\n",
       " 17  71  80   14  44  40  55  87  48  49\n",
       " 96  70  91   66  27  12  53  46  31  13\n",
       " 79  25  81   28  60  50  32  52  63  35\n",
       " 97  67  95   23  15  92  36  33  29  18"
      ]
     },
     "metadata": {},
     "output_type": "display_data"
    },
    {
     "data": {
      "text/plain": [
       "50"
      ]
     },
     "metadata": {},
     "output_type": "display_data"
    },
    {
     "data": {
      "text/plain": [
       "\"End\""
      ]
     },
     "metadata": {},
     "output_type": "display_data"
    },
    {
     "data": {
      "text/plain": [
       "\"Start\""
      ]
     },
     "metadata": {},
     "output_type": "display_data"
    },
    {
     "data": {
      "text/plain": [
       "10"
      ]
     },
     "metadata": {},
     "output_type": "display_data"
    },
    {
     "data": {
      "text/plain": [
       "10×10 Matrix{Int32}:\n",
       "  8   3   4  60  59  61  49  79  82  100\n",
       "  1   5   9  38  46  77  80  57  93   99\n",
       "  6   7   2  56  43  94  90  47  74   86\n",
       " 83  39  91  96  41  16  18  45  51   25\n",
       " 66  95  53  12  89  30  14  78  58   10\n",
       " 75  73  65  22  36  76  29  20  37   72\n",
       " 62  88  63  32  50  69  70  31  19   21\n",
       " 68  97  85  26  33  17  67  84  15   13\n",
       " 81  11  98  71  44  42  34  24  48   52\n",
       " 55  87  35  92  64  23  54  40  28   27"
      ]
     },
     "metadata": {},
     "output_type": "display_data"
    },
    {
     "data": {
      "text/plain": [
       "2"
      ]
     },
     "metadata": {},
     "output_type": "display_data"
    },
    {
     "data": {
      "text/plain": [
       "\"End\""
      ]
     },
     "metadata": {},
     "output_type": "display_data"
    }
   ],
   "source": [
    "for i in 1:10\n",
    "    X3 =\n",
    "    [1 2 3\n",
    "     4 5 6\n",
    "     7 8 9]\n",
    "    X3 = go!(X3,3)\n",
    "    k = 10\n",
    "    remainders = reverse(collect(k:k*k))\n",
    "    X = zeros(Int32, k, k)\n",
    "    for i in 1:k\n",
    "        for j in 1:k\n",
    "            if i <= 3 && j <= 3\n",
    "                X[i,j] = X3[i,j]\n",
    "            else\n",
    "                X[i,j] = pop!(remainders)\n",
    "            end\n",
    "        end\n",
    "    end\n",
    "    X = mutate(X,1000,k)\n",
    "\n",
    "    display(\"Start\")\n",
    "    display(i)\n",
    "    Solution = go!(X, k)\n",
    "    display(Solution)\n",
    "    display(fitness(Solution,k))\n",
    "    display(\"End\")\n",
    "end"
   ]
  }
 ],
 "metadata": {
  "kernelspec": {
   "display_name": "Julia 1.7.2",
   "language": "julia",
   "name": "julia-1.7"
  },
  "language_info": {
   "file_extension": ".jl",
   "mimetype": "application/julia",
   "name": "julia",
   "version": "1.7.2"
  },
  "orig_nbformat": 4,
  "vscode": {
   "interpreter": {
    "hash": "2572ea1b1ef9c8d2ad1a91dec6289fcd3897516dc536ea19b4e38370c1a20702"
   }
  }
 },
 "nbformat": 4,
 "nbformat_minor": 2
}
